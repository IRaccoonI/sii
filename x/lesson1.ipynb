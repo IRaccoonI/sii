{
  "cells": [
    {
      "cell_type": "markdown",
      "metadata": {
        "id": "7QK2C1jBViXr"
      },
      "source": [
        "## Работа с данными"
      ]
    },
    {
      "cell_type": "code",
      "execution_count": 118,
      "metadata": {
        "id": "MiORf6e9U-LW"
      },
      "outputs": [],
      "source": [
        "from tensorflow import keras\n",
        "from tensorflow.keras import layers"
      ]
    },
    {
      "cell_type": "code",
      "execution_count": 119,
      "metadata": {
        "id": "WXDYygQOU-Lb"
      },
      "outputs": [
        {
          "data": {
            "text/plain": [
              "(60000, 28, 28)"
            ]
          },
          "execution_count": 119,
          "metadata": {},
          "output_type": "execute_result"
        }
      ],
      "source": [
        "#Загружаем данные\n",
        "(x_train, y_train), (x_test, y_test) = mnist.load_data()\n",
        "x_train.shape"
      ]
    },
    {
      "cell_type": "code",
      "execution_count": 120,
      "metadata": {
        "colab": {
          "base_uri": "https://localhost:8080/",
          "height": 173
        },
        "id": "_yj5yoXjU-Lc",
        "outputId": "bfbdd20a-1e31-4941-e327-84ee4131dd20"
      },
      "outputs": [
        {
          "data": {
            "image/png": "[encoded data removed]",
            "text/plain": [
              "<Figure size 3000x3000 with 10 Axes>"
            ]
          },
          "metadata": {},
          "output_type": "display_data"
        }
      ],
      "source": [
        "import matplotlib.pyplot as plt\n",
        "#Заполняем массив классов чисел (от 0 до 9)\n",
        "class_names = [0]*10\n",
        "for i in range(10):\n",
        "  class_names[i] = str(i)\n",
        "#Выводим примеры\n",
        "plt.figure(figsize=(30,30))\n",
        "for i in range(10):\n",
        "  plt.subplot(10,10,i+1)\n",
        "  plt.xticks([])\n",
        "  plt.yticks([])\n",
        "  plt.grid(False)\n",
        "  plt.imshow(x_test[i], cmap=plt.get_cmap('gray'))\n",
        "  plt.xlabel(class_names[y_test[i]]) "
      ]
    },
    {
      "cell_type": "code",
      "execution_count": 121,
      "metadata": {},
      "outputs": [],
      "source": [
        "\n",
        "inputs = keras.Input(shape=(784,), name='digits')\n",
        "x = layers.Dense(64, activation='relu', name='dense_1')(inputs)\n",
        "x = layers.Dense(64, activation='relu', name='dense_2')(x)\n",
        "outputs = layers.Dense(10, activation='softmax', name='predictions')(x)\n",
        "\n",
        "model = keras.Model(inputs=inputs, outputs=outputs)"
      ]
    },
    {
      "cell_type": "code",
      "execution_count": 122,
      "metadata": {},
      "outputs": [],
      "source": [
        "x_train = x_train.reshape(60000, 784).astype('float32') / 255\n",
        "x_test = x_test.reshape(10000, 784).astype('float32') / 255\n",
        "\n",
        "y_train = y_train.astype('float32')\n",
        "y_test = y_test.astype('float32')\n",
        "\n",
        "# Зарезервируем 10,000 примеров для валидации\n",
        "x_val = x_train[-10000:]\n",
        "y_val = y_train[-10000:]\n",
        "x_train = x_train[:-10000]\n",
        "y_train = y_train[:-10000]"
      ]
    },
    {
      "cell_type": "code",
      "execution_count": 123,
      "metadata": {},
      "outputs": [
        {
          "name": "stdout",
          "output_type": "stream",
          "text": [
            "# Обучаем модель на тестовых данных\n",
            "Epoch 1/8\n",
            "782/782 [==============================] - 2s 2ms/step - loss: 0.3436 - sparse_categorical_accuracy: 0.9028 - val_loss: 0.1901 - val_sparse_categorical_accuracy: 0.9454\n",
            "Epoch 2/8\n",
            "782/782 [==============================] - 2s 2ms/step - loss: 0.1612 - sparse_categorical_accuracy: 0.9521 - val_loss: 0.1567 - val_sparse_categorical_accuracy: 0.9540\n",
            "Epoch 3/8\n",
            "782/782 [==============================] - 2s 2ms/step - loss: 0.1172 - sparse_categorical_accuracy: 0.9650 - val_loss: 0.1153 - val_sparse_categorical_accuracy: 0.9669\n",
            "Epoch 4/8\n",
            "782/782 [==============================] - 2s 2ms/step - loss: 0.0940 - sparse_categorical_accuracy: 0.9713 - val_loss: 0.1022 - val_sparse_categorical_accuracy: 0.9712\n",
            "Epoch 5/8\n",
            "782/782 [==============================] - 2s 2ms/step - loss: 0.0773 - sparse_categorical_accuracy: 0.9765 - val_loss: 0.1056 - val_sparse_categorical_accuracy: 0.9707\n",
            "Epoch 6/8\n",
            "782/782 [==============================] - 2s 2ms/step - loss: 0.0664 - sparse_categorical_accuracy: 0.9799 - val_loss: 0.1015 - val_sparse_categorical_accuracy: 0.9730\n",
            "Epoch 7/8\n",
            "782/782 [==============================] - 2s 2ms/step - loss: 0.0579 - sparse_categorical_accuracy: 0.9825 - val_loss: 0.0966 - val_sparse_categorical_accuracy: 0.9743\n",
            "Epoch 8/8\n",
            "782/782 [==============================] - 2s 2ms/step - loss: 0.0507 - sparse_categorical_accuracy: 0.9843 - val_loss: 0.1046 - val_sparse_categorical_accuracy: 0.9741\n"
          ]
        }
      ],
      "source": [
        "# Укажем конфигурацию обучения (оптимизатор, функция потерь, метрики)\n",
        "model.compile(optimizer=keras.optimizers.RMSprop(),  # Optimizer\n",
        "              # Минимизируемая функция потерь\n",
        "              loss=keras.losses.SparseCategoricalCrossentropy(),\n",
        "              # Список метрик для мониторинга\n",
        "              metrics=[keras.metrics.SparseCategoricalAccuracy()])\n",
        "\n",
        "# Обучим модель разбив данные на \"пакеты\"\n",
        "# размером \"batch_size\", и последовательно итерируя\n",
        "# весь датасет заданное количество \"эпох\"\n",
        "print('# Обучаем модель на тестовых данных')\n",
        "history = model.fit(x_train, y_train,\n",
        "                    batch_size=64,\n",
        "                    epochs=8,\n",
        "                    # Мы передаем валидационные данные для\n",
        "                    # мониторинга потерь и метрик на этих данных\n",
        "                    # в конце каждой эпохи\n",
        "                    validation_data=(x_val, y_val))"
      ]
    },
    {
      "cell_type": "code",
      "execution_count": 124,
      "metadata": {},
      "outputs": [
        {
          "name": "stdout",
          "output_type": "stream",
          "text": [
            "\n",
            "history dict: {'loss': [0.34355539083480835, 0.16120803356170654, 0.11722942441701889, 0.09399690479040146, 0.07726224511861801, 0.06640484184026718, 0.05791521072387695, 0.05069126933813095], 'sparse_categorical_accuracy': [0.9028199911117554, 0.9520599842071533, 0.9649999737739563, 0.971340000629425, 0.9764800071716309, 0.9798600077629089, 0.982479989528656, 0.9843199849128723], 'val_loss': [0.1901293396949768, 0.15665395557880402, 0.11533603817224503, 0.10219224542379379, 0.10558611154556274, 0.10146110504865646, 0.0966414213180542, 0.10460513830184937], 'val_sparse_categorical_accuracy': [0.9453999996185303, 0.9539999961853027, 0.9668999910354614, 0.9711999893188477, 0.9707000255584717, 0.9729999899864197, 0.9743000268936157, 0.9740999937057495]}\n",
            "\n",
            "# Оцениваем на тестовых данных\n",
            "79/79 [==============================] - 0s 2ms/step - loss: 0.0976 - sparse_categorical_accuracy: 0.9721\n",
            "test loss, test acc: [0.09757532179355621, 0.972100019454956]\n",
            "\n",
            "# Генерируем прогнозы для 3 образцов\n",
            "1/1 [==============================] - 0s 47ms/step\n",
            "размерность прогнозов: (3, 10)\n"
          ]
        }
      ],
      "source": [
        "\n",
        "# Возвращаемый объект \"history\" содержит записи\n",
        "# значений потерь и метрик во время обучения\n",
        "print('\\nhistory dict:', history.history)\n",
        "\n",
        "# Оценим модель на тестовых данных, используя \"evaluate\"\n",
        "print('\\n# Оцениваем на тестовых данных')\n",
        "results = model.evaluate(x_test, y_test, batch_size=128)\n",
        "print('test loss, test acc:', results)\n",
        "\n",
        "# Сгенерируем прогнозы (вероятности - выходные данные последнего слоя)\n",
        "# на новых данных с помощью \"predict\"\n",
        "print('\\n# Генерируем прогнозы для 3 образцов')\n",
        "predictions = model.predict(x_test[:3])\n",
        "print('размерность прогнозов:', predictions.shape)"
      ]
    },
    {
      "cell_type": "code",
      "execution_count": 127,
      "metadata": {},
      "outputs": [
        {
          "ename": "ValueError",
          "evalue": "in user code:\n\n    File \"C:\\Users\\Depo\\AppData\\Roaming\\Python\\Python310\\site-packages\\keras\\engine\\training.py\", line 2137, in predict_function  *\n        return step_function(self, iterator)\n    File \"C:\\Users\\Depo\\AppData\\Roaming\\Python\\Python310\\site-packages\\keras\\engine\\training.py\", line 2123, in step_function  **\n        outputs = model.distribute_strategy.run(run_step, args=(data,))\n    File \"C:\\Users\\Depo\\AppData\\Roaming\\Python\\Python310\\site-packages\\keras\\engine\\training.py\", line 2111, in run_step  **\n        outputs = model.predict_step(data)\n    File \"C:\\Users\\Depo\\AppData\\Roaming\\Python\\Python310\\site-packages\\keras\\engine\\training.py\", line 2079, in predict_step\n        return self(x, training=False)\n    File \"C:\\Users\\Depo\\AppData\\Roaming\\Python\\Python310\\site-packages\\keras\\utils\\traceback_utils.py\", line 70, in error_handler\n        raise e.with_traceback(filtered_tb) from None\n    File \"C:\\Users\\Depo\\AppData\\Roaming\\Python\\Python310\\site-packages\\keras\\engine\\input_spec.py\", line 295, in assert_input_compatibility\n        raise ValueError(\n\n    ValueError: Input 0 of layer \"model_4\" is incompatible with the layer: expected shape=(None, 784), found shape=(None, 28, 28)\n",
          "output_type": "error",
          "traceback": [
            "\u001b[1;31m---------------------------------------------------------------------------\u001b[0m",
            "\u001b[1;31mValueError\u001b[0m                                Traceback (most recent call last)",
            "Cell \u001b[1;32mIn[127], line 8\u001b[0m\n\u001b[0;32m      5\u001b[0m \u001b[39mfor\u001b[39;00m i \u001b[39min\u001b[39;00m \u001b[39mrange\u001b[39m(\u001b[39m10\u001b[39m):\n\u001b[0;32m      6\u001b[0m   class_names[i] \u001b[39m=\u001b[39m \u001b[39mstr\u001b[39m(i)\n\u001b[1;32m----> 8\u001b[0m predicts \u001b[39m=\u001b[39m model\u001b[39m.\u001b[39;49mpredict(x_test[:\u001b[39m10\u001b[39;49m])\n\u001b[0;32m     10\u001b[0m \u001b[39m#Выводим примеры\u001b[39;00m\n\u001b[0;32m     11\u001b[0m plt\u001b[39m.\u001b[39mfigure(figsize\u001b[39m=\u001b[39m(\u001b[39m30\u001b[39m,\u001b[39m30\u001b[39m))\n",
            "File \u001b[1;32m~\\AppData\\Roaming\\Python\\Python310\\site-packages\\keras\\utils\\traceback_utils.py:70\u001b[0m, in \u001b[0;36mfilter_traceback.<locals>.error_handler\u001b[1;34m(*args, **kwargs)\u001b[0m\n\u001b[0;32m     67\u001b[0m     filtered_tb \u001b[39m=\u001b[39m _process_traceback_frames(e\u001b[39m.\u001b[39m__traceback__)\n\u001b[0;32m     68\u001b[0m     \u001b[39m# To get the full stack trace, call:\u001b[39;00m\n\u001b[0;32m     69\u001b[0m     \u001b[39m# `tf.debugging.disable_traceback_filtering()`\u001b[39;00m\n\u001b[1;32m---> 70\u001b[0m     \u001b[39mraise\u001b[39;00m e\u001b[39m.\u001b[39mwith_traceback(filtered_tb) \u001b[39mfrom\u001b[39;00m \u001b[39mNone\u001b[39m\n\u001b[0;32m     71\u001b[0m \u001b[39mfinally\u001b[39;00m:\n\u001b[0;32m     72\u001b[0m     \u001b[39mdel\u001b[39;00m filtered_tb\n",
            "File \u001b[1;32m~\\AppData\\Local\\Temp\\__autograph_generated_filevjgxp598.py:15\u001b[0m, in \u001b[0;36mouter_factory.<locals>.inner_factory.<locals>.tf__predict_function\u001b[1;34m(iterator)\u001b[0m\n\u001b[0;32m     13\u001b[0m \u001b[39mtry\u001b[39;00m:\n\u001b[0;32m     14\u001b[0m     do_return \u001b[39m=\u001b[39m \u001b[39mTrue\u001b[39;00m\n\u001b[1;32m---> 15\u001b[0m     retval_ \u001b[39m=\u001b[39m ag__\u001b[39m.\u001b[39mconverted_call(ag__\u001b[39m.\u001b[39mld(step_function), (ag__\u001b[39m.\u001b[39mld(\u001b[39mself\u001b[39m), ag__\u001b[39m.\u001b[39mld(iterator)), \u001b[39mNone\u001b[39;00m, fscope)\n\u001b[0;32m     16\u001b[0m \u001b[39mexcept\u001b[39;00m:\n\u001b[0;32m     17\u001b[0m     do_return \u001b[39m=\u001b[39m \u001b[39mFalse\u001b[39;00m\n",
            "\u001b[1;31mValueError\u001b[0m: in user code:\n\n    File \"C:\\Users\\Depo\\AppData\\Roaming\\Python\\Python310\\site-packages\\keras\\engine\\training.py\", line 2137, in predict_function  *\n        return step_function(self, iterator)\n    File \"C:\\Users\\Depo\\AppData\\Roaming\\Python\\Python310\\site-packages\\keras\\engine\\training.py\", line 2123, in step_function  **\n        outputs = model.distribute_strategy.run(run_step, args=(data,))\n    File \"C:\\Users\\Depo\\AppData\\Roaming\\Python\\Python310\\site-packages\\keras\\engine\\training.py\", line 2111, in run_step  **\n        outputs = model.predict_step(data)\n    File \"C:\\Users\\Depo\\AppData\\Roaming\\Python\\Python310\\site-packages\\keras\\engine\\training.py\", line 2079, in predict_step\n        return self(x, training=False)\n    File \"C:\\Users\\Depo\\AppData\\Roaming\\Python\\Python310\\site-packages\\keras\\utils\\traceback_utils.py\", line 70, in error_handler\n        raise e.with_traceback(filtered_tb) from None\n    File \"C:\\Users\\Depo\\AppData\\Roaming\\Python\\Python310\\site-packages\\keras\\engine\\input_spec.py\", line 295, in assert_input_compatibility\n        raise ValueError(\n\n    ValueError: Input 0 of layer \"model_4\" is incompatible with the layer: expected shape=(None, 784), found shape=(None, 28, 28)\n"
          ]
        }
      ],
      "source": [
        "import matplotlib.pyplot as plt\n",
        "#Заполняем массив классов чисел (от 0 д#Загружаем данные\n",
        "(), (x_test_tt,) = mnist.load_data()\n",
        "class_names = [0]*10\n",
        "for i in range(10):\n",
        "  class_names[i] = str(i)\n",
        "\n",
        "predicts = model.predict(x_test[:10])\n",
        "\n",
        "#Выводим примеры\n",
        "plt.figure(figsize=(30,30))\n",
        "for i in range(10):\n",
        "  plt.subplot(10,10,i+1)\n",
        "  plt.xticks([])\n",
        "  plt.yticks([])\n",
        "  plt.grid(False)\n",
        "  plt.imshow(x_test_tt[i], cmap=plt.get_cmap('gray'))\n",
        "  predict = predicts[i]\n",
        "  predict_val = predict.index(max(predict))\n",
        "  plt.xlabel(class_names[predict_val]) "
      ]
    },
    {
      "cell_type": "code",
      "execution_count": null,
      "metadata": {},
      "outputs": [],
      "source": []
    }
  ],
  "metadata": {
    "colab": {
      "collapsed_sections": [],
      "name": "lesson1.ipynb",
      "provenance": []
    },
    "kernelspec": {
      "display_name": "Python 3.10.0 64-bit",
      "language": "python",
      "name": "python3"
    },
    "language_info": {
      "codemirror_mode": {
        "name": "ipython",
        "version": 3
      },
      "file_extension": ".py",
      "mimetype": "text/x-python",
      "name": "python",
      "nbconvert_exporter": "python",
      "pygments_lexer": "ipython3",
      "version": "3.10.0"
    },
    "vscode": {
      "interpreter": {
        "hash": "369f2c481f4da34e4445cda3fffd2e751bd1c4d706f27375911949ba6bb62e1c"
      }
    }
  },
  "nbformat": 4,
  "nbformat_minor": 0
}
